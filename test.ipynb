{
 "cells": [
  {
   "cell_type": "code",
   "execution_count": null,
   "metadata": {},
   "outputs": [],
   "source": [
    "from quant_test import *\n",
    "import matplotlib.pyplot as plt\n",
    "\n",
    "DIM_M = 1024\n",
    "DIM_N = 3072\n",
    "NORM_MEAN = 0.0\n",
    "NORM_STD = 1.0\n",
    "\n",
    "OUTLIER_NUM = int(DIM_M * DIM_N * 0.001)\n",
    "MAX_SWEEP_NUM = 10000\n",
    "\n",
    "#SCALING_FACTOR_PROPOSED = 1200\n",
    "#SCALING_FACTOR_NAIVE = 50"
   ]
  },
  {
   "cell_type": "code",
   "execution_count": null,
   "metadata": {},
   "outputs": [],
   "source": [
    "tensor = tensor_gen(DIM_M, DIM_N, NORM_MEAN, NORM_STD, OUTLIER_NUM)"
   ]
  },
  {
   "cell_type": "code",
   "execution_count": null,
   "metadata": {},
   "outputs": [],
   "source": [
    "proposed_results_x = list()\n",
    "proposed_results_y = list()\n",
    "for scaling_factor in range(300, 1000, 50):\n",
    "    tensor_proposed, a_vec, b_vec = proposed_quant(tensor, scaling_factor)\n",
    "    restore_proposed = proposed_restore(tensor_proposed, a_vec, b_vec, scaling_factor)\n",
    "    proposed_error = get_mse(tensor, restore_proposed)\n",
    "\n",
    "    proposed_results_x.append(scaling_factor)\n",
    "    proposed_results_y.append(proposed_error)\n"
   ]
  },
  {
   "cell_type": "code",
   "execution_count": null,
   "metadata": {},
   "outputs": [],
   "source": [
    "naive_results_x = list()\n",
    "naive_results_y = list()\n",
    "for scaling_factor in range(0, 20, 1):\n",
    "    tensor_naive = naive_quant(tensor, scaling_factor)\n",
    "    restore_naive = naive_restore(tensor_naive, scaling_factor)\n",
    "    naive_error = get_mse(tensor, restore_naive)\n",
    "\n",
    "    naive_results_x.append(scaling_factor)\n",
    "    naive_results_y.append(naive_error)"
   ]
  },
  {
   "cell_type": "code",
   "execution_count": null,
   "metadata": {},
   "outputs": [],
   "source": []
  },
  {
   "cell_type": "code",
   "execution_count": null,
   "metadata": {},
   "outputs": [],
   "source": [
    "proposed_min_index = proposed_results_y.index(min(proposed_results_y))\n",
    "print(f\"Proposed - minimum err: {proposed_results_y[proposed_min_index]}, scaling factor: {proposed_results_x[proposed_min_index]}\")\n",
    "\n",
    "naive_min_index = naive_results_y.index(min(naive_results_y))\n",
    "print(f\"Naive - minimum err: {naive_results_y[naive_min_index]}, scaling factor: {naive_results_x[naive_min_index]}\")"
   ]
  },
  {
   "cell_type": "code",
   "execution_count": null,
   "metadata": {},
   "outputs": [],
   "source": [
    "plt.plot(proposed_results_x, proposed_results_y)"
   ]
  },
  {
   "cell_type": "code",
   "execution_count": null,
   "metadata": {},
   "outputs": [],
   "source": [
    "plt.plot(naive_results_x, naive_results_y)"
   ]
  }
 ],
 "metadata": {
  "language_info": {
   "name": "python"
  }
 },
 "nbformat": 4,
 "nbformat_minor": 2
}
